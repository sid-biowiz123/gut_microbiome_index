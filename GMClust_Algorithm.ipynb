{
  "nbformat": 4,
  "nbformat_minor": 0,
  "metadata": {
    "colab": {
      "provenance": []
    },
    "kernelspec": {
      "name": "python3",
      "display_name": "Python 3"
    },
    "language_info": {
      "name": "python"
    }
  },
  "cells": [
    {
      "cell_type": "code",
      "execution_count": null,
      "metadata": {
        "id": "_vQA2pIiBUiN"
      },
      "outputs": [],
      "source": [
        "import pandas as pd\n",
        "import numpy as np\n",
        "from sklearn.preprocessing import StandardScaler\n",
        "from sklearn.cluster import DBSCAN\n",
        "from scipy.spatial.distance import pdist, squareform\n",
        "from skbio.diversity.alpha import shannon, simpson\n",
        "import seaborn as sns\n",
        "import matplotlib.pyplot as plt\n",
        "from sklearn.metrics import silhouette_score, davies_bouldin_score\n",
        "from sklearn.decomposition import PCA\n",
        "\n",
        "def load_data(otu_file, taxonomy_file, metadata_file):\n",
        "    otu = pd.read_csv(otu_file, index_col=0)\n",
        "    taxonomy = pd.read_csv(taxonomy_file, index_col=0)\n",
        "    metadata = pd.read_csv(metadata_file, index_col=0)\n",
        "    return otu, taxonomy, metadata\n",
        "\n",
        "def filter_top_species(otu, top_n=30):\n",
        "    otu_top = otu.apply(lambda x: x.nlargest(top_n).fillna(0), axis=1)\n",
        "    return otu_top\n",
        "\n",
        "def compute_diversity_indices(otu):\n",
        "    diversity_df = pd.DataFrame({\n",
        "        'Shannon_Index': otu.apply(shannon, axis=1),\n",
        "        'Simpson_Index': otu.apply(simpson, axis=1)\n",
        "    })\n",
        "    return diversity_df\n",
        "\n",
        "def apply_dbscan_clustering(data, metric='braycurtis', eps=0.5, min_samples=5):\n",
        "    distance_matrix = squareform(pdist(data, metric=metric))\n",
        "    clustering = DBSCAN(eps=eps, min_samples=min_samples, metric='precomputed').fit(distance_matrix)\n",
        "    return clustering.labels_\n",
        "\n",
        "def evaluate_clusters(data, labels):\n",
        "    if len(set(labels)) > 1 and -1 not in set(labels):  # Ensure valid clusters exist\n",
        "        silhouette = silhouette_score(data, labels, metric='euclidean')\n",
        "        db_index = davies_bouldin_score(data, labels)\n",
        "        return {'Silhouette Score': silhouette, 'Davies-Bouldin Index': db_index}\n",
        "    return {'Silhouette Score': None, 'Davies-Bouldin Index': None}\n",
        "\n",
        "def visualize_clusters(data, labels, metadata):\n",
        "    pca = PCA(n_components=2)\n",
        "    pca_result = pca.fit_transform(StandardScaler().fit_transform(data))\n",
        "\n",
        "    df = pd.DataFrame(pca_result, columns=['PC1', 'PC2'])\n",
        "    df['Cluster'] = labels\n",
        "    df = df.merge(metadata, left_index=True, right_index=True)\n",
        "\n",
        "    plt.figure(figsize=(8, 6))\n",
        "    sns.scatterplot(data=df, x='PC1', y='PC2', hue='Cluster', style='Geography', alpha=0.7)\n",
        "    plt.title('DBSCAN Clustering of Microbiome Data')\n",
        "    plt.show()\n",
        "\n"
      ]
    }
  ]
}
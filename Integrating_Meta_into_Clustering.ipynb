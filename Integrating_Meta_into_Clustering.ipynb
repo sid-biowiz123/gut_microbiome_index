{
  "nbformat": 4,
  "nbformat_minor": 0,
  "metadata": {
    "colab": {
      "provenance": []
    },
    "kernelspec": {
      "name": "python3",
      "display_name": "Python 3"
    },
    "language_info": {
      "name": "python"
    }
  },
  "cells": [
    {
      "cell_type": "code",
      "execution_count": null,
      "metadata": {
        "id": "9zQN6vZfYBzP"
      },
      "outputs": [],
      "source": [
        "# Define BMI categories based on standard classification\n",
        "def categorize_bmi(bmi):\n",
        "    if bmi < 18.5:\n",
        "        return \"Underweight\"\n",
        "    elif 18.5 <= bmi < 24.9:\n",
        "        return \"Normal weight\"\n",
        "    elif 25 <= bmi < 29.9:\n",
        "        return \"Overweight\"\n",
        "    else:\n",
        "        return \"Obese\"\n",
        "\n",
        "# Apply BMI categorization\n",
        "meta_df[\"BMI_Category\"] = meta_df[\"BMI\"].apply(categorize_bmi)\n",
        "\n",
        "# Create a new column combining Lifestyle and BMI category\n",
        "meta_df[\"Lifestyle_BMI_Group\"] = meta_df[\"Life style pattern\"] + \" - \" + meta_df[\"BMI_Category\"]\n",
        "\n",
        "# Display unique Lifestyle-BMI combinations\n",
        "meta_df[\"Lifestyle_BMI_Group\"].value_counts()\n"
      ]
    },
    {
      "cell_type": "code",
      "source": [
        "# Reload OTU data\n",
        "otu_file_path = \"/mnt/data/pan_otutab.csv\"\n",
        "otu_df = pd.read_csv(otu_file_path)\n",
        "\n",
        "# Ensure Subject_IDs align across datasets\n",
        "otu_subjects = otu_df.columns[1:]  # Excluding OTU_ID column\n",
        "meta_subjects = meta_df[\"Subject_ID\"].unique()\n",
        "\n",
        "# Keep only matching subjects in metadata and OTU data\n",
        "common_subjects = set(otu_subjects).intersection(set(meta_subjects))\n",
        "otu_df = otu_df[[\"OTU_ID\"] + list(common_subjects)]\n",
        "meta_df = meta_df[meta_df[\"Subject_ID\"].isin(common_subjects)]\n",
        "\n",
        "# Recalculate diversity indices for each Lifestyle-BMI group\n",
        "diversity_data = {}\n",
        "for subject in common_subjects:\n",
        "    subject_data = otu_df[['OTU_ID', subject]].copy()\n",
        "    top_otus = subject_data.nlargest(30, subject)  # Keep top 30 species\n",
        "\n",
        "    # Compute Shannon and Simpson indices\n",
        "    shannon = entropy(top_otus[subject])\n",
        "    simpson = simpson_index(top_otus[subject].values)\n",
        "\n",
        "    # Store in dictionary\n",
        "    diversity_data[subject] = {'Shannon': shannon, 'Simpson': simpson}\n",
        "\n",
        "# Convert to DataFrame\n",
        "diversity_df = pd.DataFrame.from_dict(diversity_data, orient='index')\n",
        "\n",
        "# Merge with Lifestyle-BMI group labels\n",
        "diversity_df = diversity_df.merge(meta_df[['Subject_ID', 'Lifestyle_BMI_Group']], left_index=True, right_on='Subject_ID')\n",
        "\n",
        "# Display grouped data\n",
        "diversity_df.head()\n"
      ],
      "metadata": {
        "id": "IyI7ywEYYPOT"
      },
      "execution_count": null,
      "outputs": []
    },
    {
      "cell_type": "code",
      "source": [
        "# Perform clustering within each Lifestyle-BMI group\n",
        "clustered_results = {}\n",
        "\n",
        "for group, group_df in diversity_df.groupby(\"Lifestyle_BMI_Group\"):\n",
        "    if len(group_df) < 3:  # Skip groups with too few samples for clustering\n",
        "        continue\n",
        "\n",
        "    # K-means clustering (choosing 3 clusters arbitrarily)\n",
        "    kmeans = KMeans(n_clusters=3, random_state=42, n_init=10)\n",
        "    group_df[\"Cluster\"] = kmeans.fit_predict(group_df[[\"Shannon\", \"Simpson\"]])\n",
        "\n",
        "    # Store results\n",
        "    clustered_results[group] = group_df[[\"Subject_ID\", \"Cluster\"]]\n",
        "\n",
        "# Combine clustered results\n",
        "clustered_diversity_df = pd.concat(clustered_results.values())\n",
        "\n",
        "# Display sample of clustered subjects\n",
        "clustered_diversity_df.head()\n"
      ],
      "metadata": {
        "id": "nUYQOIbiYUBZ"
      },
      "execution_count": null,
      "outputs": []
    },
    {
      "cell_type": "code",
      "source": [
        "## We again get a list of bacteria who's Dominance is found throughout the group\n",
        "Cluster 0:\n",
        "\n",
        "Prevotella copri\n",
        "Faecalibacterium prausnitzii\n",
        "Bacteroides plebeius\n",
        "Haemophilus parainfluenzae\n",
        "Megasphaera elsdenii\n",
        "\n",
        "Cluster 1:\n",
        "\n",
        "Prevotella copri\n",
        "Faecalibacterium prausnitzii\n",
        "Bacteroides plebeius\n",
        "Haemophilus parainfluenzae\n",
        "Roseburia faecis\n",
        "\n",
        "Cluster 2:\n",
        "\n",
        "Prevotella copri\n",
        "Faecalibacterium prausnitzii\n",
        "Bacteroides plebeius\n",
        "Haemophilus parainfluenzae\n",
        "Roseburia faecis\n",
        "Ruminococcus gnavus"
      ],
      "metadata": {
        "id": "cfNKCoYWYauf"
      },
      "execution_count": null,
      "outputs": []
    }
  ]
}